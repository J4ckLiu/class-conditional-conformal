{
 "cells": [
  {
   "cell_type": "code",
   "execution_count": 1,
   "id": "f6e4867c",
   "metadata": {},
   "outputs": [],
   "source": [
    "import sys; sys.path.append(\"../\") # For relative imports\n",
    "\n",
    "from utils.experiment_utils import *\n",
    "\n",
    "%load_ext autoreload\n",
    "%autoreload 2"
   ]
  },
  {
   "cell_type": "markdown",
   "id": "323738a7",
   "metadata": {},
   "source": [
    "In this notebook, we investigate the class-conditional coverage properties of standard conformal on ImageNet. \n",
    "\n",
    "**Note**: Before running this notebook, run `sh run_experiment.sh` (or just a single experiment using standard conformal). \n",
    "\n",
    "Mapping from ImageNet labels to names: https://gist.github.com/yrevar/942d3a0ac09ec9e5eb3a"
   ]
  },
  {
   "cell_type": "code",
   "execution_count": 2,
   "id": "34949a8e",
   "metadata": {},
   "outputs": [],
   "source": [
    "dataset = 'imagenet'\n",
    "pth = f'../.cache/paper/varying_n/{dataset}/random_calset/n_totalcal=20/score=softmax/seed=0_allresults.pkl'"
   ]
  },
  {
   "cell_type": "code",
   "execution_count": 3,
   "id": "f2a22c8d",
   "metadata": {},
   "outputs": [],
   "source": [
    "with open(pth, 'rb') as f:\n",
    "    results = pickle.load(f)"
   ]
  },
  {
   "cell_type": "code",
   "execution_count": 4,
   "id": "47be7b22",
   "metadata": {
    "scrolled": false
   },
   "outputs": [
    {
     "data": {
      "image/png": "[encoded data removed]",
      "text/plain": [
       "<Figure size 432x288 with 1 Axes>"
      ]
     },
     "metadata": {
      "needs_background": "light"
     },
     "output_type": "display_data"
    }
   ],
   "source": [
    "bins = np.linspace(0.5, 1, 20)\n",
    "plt.hist(results['standard'][2]['raw_class_coverages'], bins=bins)\n",
    "plt.xlabel('Class-conditional coverage')\n",
    "plt.ylabel('Number of classes')\n",
    "\n",
    "ymin, ymax = plt.ylim()\n",
    "plt.vlines(x=0.9, ymin=ymin, ymax=ymax, label='Desired coverage (0.9)', color='limegreen')\n",
    "plt.ylim(ymin, ymax)\n",
    "\n",
    "plt.title('Standard conformal on ImageNet')\n",
    "plt.legend(loc='upper left')\n",
    "plt.show()"
   ]
  },
  {
   "cell_type": "code",
   "execution_count": 5,
   "id": "e6700b77",
   "metadata": {},
   "outputs": [
    {
     "name": "stdout",
     "output_type": "stream",
     "text": [
      "Class-conditional coverages:\n",
      "[0.95848057 0.98090278 0.94117647 0.90685859 0.92560554 0.88640275\n",
      " 0.94952951 0.96210164 0.92355556 0.98613518 0.96681223 0.98515284\n",
      " 0.98526863 0.98339161 0.98594025 0.97535211 0.99136442 0.97554585\n",
      " 0.9554413  0.99035933 0.95175439 0.95934256 0.98415493 0.96167247\n",
      " 0.9877836  0.95192308 0.88       0.92699491 0.9470538  0.96327925\n",
      " 0.96709957 0.96007098 0.90933333 0.90517241 0.89063867 0.88763066\n",
      " 0.8558952  0.95742832 0.92650919 0.93825043 0.95829713 0.90932868\n",
      " 0.94596988 0.91758794 0.92643285 0.96832192 0.836966   0.96575342\n",
      " 0.98615917 0.93787748 0.95438596 0.98931434 0.83333333 0.92788879\n",
      " 0.8194325  0.86215979 0.95750217 0.96440972 0.90740741 0.91989437\n",
      " 0.74558304 0.93410508 0.84479167 0.95081967 0.92957746 0.90339426\n",
      " 0.79020979 0.88636364 0.85008666 0.9675491  0.96462468 0.96575342\n",
      " 0.98167539 0.77873812 0.78497409 0.97243755 0.96140351 0.94323144\n",
      " 0.94220665 0.95368782 0.90964379 0.97048611 0.91804708 0.92857143\n",
      " 0.97829861 0.95462478 0.7677643  0.98792062 0.9792567  0.97826087\n",
      " 0.98685364 0.97635727 0.97723292 0.97695035 0.98502203 0.97891037\n",
      " 0.9806338  0.96847636 0.96616915 0.92248062 0.98607485 0.90079017\n",
      " 0.99026549 0.96108597 0.97416021 0.99120493 0.96309315 0.96818573\n",
      " 0.91373239 0.97053726 0.94371152 0.94283276 0.87413194 0.94395797\n",
      " 0.92121212 0.95833333 0.95909487 0.96925705 0.8462867  0.90972222\n",
      " 0.93474427 0.88742304 0.9291958  0.92491468 0.85989492 0.95644599\n",
      " 0.91441048 0.95617879 0.92400691 0.98320071 0.99050086 0.95017483\n",
      " 0.95431034 0.96788194 0.90791738 0.98183391 0.9720524  0.98101812\n",
      " 0.97222222 0.97666379 0.97224631 0.97767857 0.97865073 0.97219809\n",
      " 0.96844873 0.98792062 0.98242531 0.95172414 0.98006932 0.97797357\n",
      " 0.9200695  0.84729494 0.84750733 0.94185022 0.94194107 0.90394511\n",
      " 0.94545455 0.93593074 0.7243173  0.92962641 0.94323144 0.92700088\n",
      " 0.84364261 0.85204526 0.92629482 0.7136294  0.83628319 0.79429429\n",
      " 0.8600175  0.94425087 0.80948276 0.87971905 0.91356958 0.90854185\n",
      " 0.9293617  0.82126348 0.90751945 0.95478261 0.95774648 0.84114583\n",
      " 0.76977153 0.94336283 0.89023336 0.93171608 0.81701031 0.79406632\n",
      " 0.8633218  0.93386243 0.84907834 0.85311699 0.92694611 0.91777188\n",
      " 0.85677308 0.85551664 0.91707799 0.94478528 0.89785408 0.91418564\n",
      " 0.88770999 0.89759036 0.83958152 0.81849913 0.87336245 0.93413174\n",
      " 0.81730769 0.941331   0.90432383 0.89098712 0.8469657  0.8969697\n",
      " 0.95196507 0.91695804 0.88888889 0.94234079 0.91465517 0.92678725\n",
      " 0.92254134 0.93593074 0.94044444 0.8961039  0.86194996 0.91860465\n",
      " 0.93554007 0.91725979 0.93017241 0.89991372 0.8558952  0.81659389\n",
      " 0.90877797 0.95263158 0.87735849 0.85221239 0.92354474 0.93085566\n",
      " 0.91659501 0.91790393 0.9200695  0.90901137 0.83217993 0.92974848\n",
      " 0.81778929 0.87348354 0.85901926 0.93868739 0.88811189 0.8858885\n",
      " 0.84330986 0.95829713 0.77413793 0.89035088 0.7890223  0.96980155\n",
      " 0.92343934 0.90139616 0.93874029 0.95993031 0.91659574 0.86701209\n",
      " 0.94587629 0.94791667 0.97212544 0.96748682 0.91382979 0.92676548\n",
      " 0.86548673 0.81746725 0.8784965  0.90496949 0.93558282 0.90250216\n",
      " 0.9083045  0.87734242 0.883821   0.88675958 0.92017167 0.94449263\n",
      " 0.97339056 0.93904594 0.85143354 0.95536481 0.88675958 0.91361257\n",
      " 0.70959378 0.97112861 0.9826087  0.88687392 0.96200345 0.91703057\n",
      " 0.87274291 0.99059829 0.95087719 0.98686515 0.98789974 0.97998259\n",
      " 0.97366111 0.96807593 0.97864769 0.96234676 0.85327511 0.98277347\n",
      " 0.92771084 0.97827976 0.93421053 0.89423904 0.86683849 0.92682927\n",
      " 0.94649123 0.94031142 0.93545535 0.94763948 0.90933333 0.91737649\n",
      " 0.9206626  0.92173913 0.89741379 0.98006932 0.95296167 0.95913043\n",
      " 0.9644714  0.95411255 0.95716783 0.99567848 0.96701389 0.99557913\n",
      " 0.97579948 0.95599655 0.96732588 0.9534687  0.95482189 0.94570928\n",
      " 0.93950178 0.9231441  0.96620451 0.97998259 0.96052632 0.96660482\n",
      " 0.96239316 0.91529818 0.96031061 0.99654875 0.99040976 0.88927944\n",
      " 0.9090106  0.9737303  0.97975352 0.8921484  0.96822595 0.98631309\n",
      " 0.94829097 0.92268041 0.97320657 0.97236615 0.92161929 0.92977778\n",
      " 0.98774081 0.97584124 0.78508772 0.90666667 0.8712522  0.94449339\n",
      " 0.9226087  0.97120419 0.94468832 0.96296296 0.98106713 0.96200345\n",
      " 0.97212544 0.92105263 0.91515152 0.95096322 0.88024476 0.8221831\n",
      " 0.96092362 0.90431034 0.92116538 0.95996519 0.98607485 0.93971631\n",
      " 0.92125984 0.92173913 0.78097731 0.78987993 0.95733333 0.96187175\n",
      " 0.94199134 0.94148021 0.94661922 0.99120493 0.99465717 0.89965695\n",
      " 0.92138063 0.92959002 0.970726   0.9745167  0.95855379 0.94303243\n",
      " 0.97610619 0.98421053 0.90529974 0.91225022 0.92795139 0.90917186\n",
      " 0.92602263 0.96660959 0.95789474 0.95986038 0.89947552 0.91116974\n",
      " 0.88917526 0.84622068 0.9506383  0.90627687 0.71378092 0.85539001\n",
      " 0.84939759 0.73093777 0.9372313  0.92524186 0.82268227 0.78050922\n",
      " 0.92857143 0.82661996 0.87554777 0.907585   0.9122807  0.93674177\n",
      " 0.88425047 0.83666377 0.86026201 0.90297203 0.9537925  0.9250646\n",
      " 0.85914261 0.85248714 0.85863874 0.84155844 0.79861711 0.91034483\n",
      " 0.8845815  0.94637817 0.83496007 0.88626422 0.90522586 0.91428571\n",
      " 0.93981083 0.86262799 0.81315789 0.84219554 0.92838654 0.91002571\n",
      " 0.97569444 0.89767842 0.86869565 0.93333333 0.84499557 0.88601036\n",
      " 0.89382071 0.80299033 0.91896552 0.87640449 0.82854656 0.82563208\n",
      " 0.82623805 0.71043478 0.80856643 0.90267176 0.97152718 0.93419913\n",
      " 0.83461211 0.85038693 0.79930495 0.91838488 0.91543156 0.80895009\n",
      " 0.91507799 0.95316565 0.9720035  0.85862966 0.81880932 0.79531657\n",
      " 0.90853659 0.85466795 0.71699741 0.93151888 0.91371872 0.8115688\n",
      " 0.87920621 0.75218914 0.77413793 0.87435009 0.91184097 0.88530806\n",
      " 0.87783595 0.92724046 0.74336283 0.90017212 0.93033135 0.85021645\n",
      " 0.88501742 0.76659751 0.97764402 0.73856209 0.80363322 0.85575049\n",
      " 0.82493369 0.84142114 0.85047537 0.82653061 0.8415493  0.87314086\n",
      " 0.95070423 0.96097138 0.86113537 0.82619863 0.84843206 0.79487179\n",
      " 0.84117125 0.9083045  0.84347826 0.82136602 0.90123457 0.85605338\n",
      " 0.90414508 0.79126638 0.81989708 0.94479074 0.83433995 0.75234842\n",
      " 0.88792354 0.86451049 0.82882096 0.87516088 0.90043668 0.98146514\n",
      " 0.87392055 0.95175439 0.81708449 0.9797891  0.85065502 0.82033304\n",
      " 0.95126197 0.84594835 0.7211704  0.87347295 0.86089907 0.90220264\n",
      " 0.93367786 0.92413793 0.91513561 0.88908297 0.88534397 0.85980392\n",
      " 0.93859649 0.81717687 0.9614711  0.93263342 0.87291849 0.87105038\n",
      " 0.82560137 0.83000867 0.95070423 0.93280977 0.9256993  0.94347826\n",
      " 0.9717564  0.94015611 0.93989547 0.81668194 0.94655172 0.94641314\n",
      " 0.85201401 0.90463918 0.85764192 0.96587927 0.9505737  0.94325021\n",
      " 0.98945518 0.92559787 0.8830156  0.91202091 0.88179465 0.87359307\n",
      " 0.78761823 0.92638037 0.81433506 0.63914027 0.9135274  0.74070796\n",
      " 0.84092863 0.81184669 0.85869565 0.86879433 0.90980736 0.84020619\n",
      " 0.96983141 0.86188811 0.76100629 0.94759825 0.93398751 0.92107546\n",
      " 0.61149826 0.8948291  0.92467532 0.97442681 0.95851721 0.89137931\n",
      " 0.84201236 0.97525597 0.85664639 0.93556929 0.90239574 0.93613298\n",
      " 0.97001764 0.83840139 0.95902354 0.82214473 0.87929515 0.86558219\n",
      " 0.69913043 0.78119658 0.76943005 0.90854185 0.87065972 0.82730455\n",
      " 0.79177603 0.92367067 0.76876618 0.9469496  0.94736842 0.87817704\n",
      " 0.9244713  0.743521   0.75131349 0.77641921 0.90932868 0.88484252\n",
      " 0.79444926 0.8684669  0.80137575 0.75720524 0.96017699 0.82414698\n",
      " 0.95907928 0.83727034 0.84118674 0.98366294 0.89896373 0.83678756\n",
      " 0.88533333 0.95611015 0.76909871 0.90138408 0.86230637 0.90322581\n",
      " 0.88504754 0.84816754 0.85516045 0.80642361 0.93345009 0.80378657\n",
      " 0.91386736 0.97110333 0.80254154 0.76167315 0.7486911  0.89554795\n",
      " 0.86631944 0.90600522 0.93782837 0.94086957 0.92407248 0.93968531\n",
      " 0.96542783 0.73485514 0.8788143  0.89566929 0.84142716 0.84432718\n",
      " 0.78173077 0.93183779 0.8359375  0.78947368 0.94189072 0.86171132\n",
      " 0.90941073 0.96413322 0.90744467 0.95633188 0.89519651 0.88044693\n",
      " 0.93139842 0.85788562 0.77300613 0.82692308 0.95742832 0.87305699\n",
      " 0.72679965 0.92449517 0.87202118 0.93073593 0.76835664 0.91229579\n",
      " 0.88898601 0.90622261 0.89170306 0.86147186 0.91006843 0.8962766\n",
      " 0.87561214 0.86730269 0.81818182 0.82585752 0.90700344 0.92052402\n",
      " 0.83912612 0.95611015 0.8399654  0.88810573 0.80489939 0.94618056\n",
      " 0.84750219 0.87057808 0.83612335 0.92089249 0.94306418 0.80158033\n",
      " 0.93362069 0.92748433 0.84501062 0.88602151 0.91368788 0.55039439\n",
      " 0.94050744 0.65104167 0.90079017 0.89700704 0.95171203 0.84494774\n",
      " 0.87085515 0.96937883 0.83227446 0.89496157 0.80839895 0.85065502\n",
      " 0.81164384 0.84215168 0.90305677 0.8956044  0.7037037  0.88859878\n",
      " 0.88378144 0.93712317 0.92774309 0.86133333 0.70454545 0.96066434\n",
      " 0.8501292  0.90940767 0.85137457 0.94185022 0.87894737 0.85864794\n",
      " 0.80772532 0.87826087 0.76855124 0.91035683 0.92024014 0.78571429\n",
      " 0.92869875 0.84426947 0.93133047 0.8373102  0.80444444 0.84688581\n",
      " 0.90450928 0.87598253 0.90933099 0.88888889 0.81298036 0.94516971\n",
      " 0.92595819 0.96768559 0.73209549 0.83013937 0.6897747  0.93642612\n",
      " 0.91035683 0.82276281 0.79861111 0.87647593 0.85211268 0.90388007\n",
      " 0.80574913 0.89193825 0.87401575 0.91803279 0.87640449 0.83661249\n",
      " 0.9344894  0.78165939 0.96754386 0.92857143 0.97558849 0.93179805\n",
      " 0.80749129 0.92447917 0.90113736 0.89544236 0.89044698 0.79268293\n",
      " 0.82589771 0.7258248  0.95711679 0.62195122 0.96915167 0.95021834\n",
      " 0.93368237 0.87673611 0.76274165 0.90564374 0.98962835 0.95445545\n",
      " 0.94596913 0.86086957 0.73426573 0.95225694 0.8487395  0.8407699\n",
      " 0.77244987 0.94759825 0.86026201 0.90425532 0.96474635 0.94334764\n",
      " 0.86257563 0.89354276 0.6537133  0.80229479 0.74211503 0.93379791\n",
      " 0.79529617 0.75837321 0.86615516 0.94493783 0.86758383 0.77065026\n",
      " 0.87826087 0.95172414 0.7840708  0.85886403 0.92348285 0.82414698\n",
      " 0.76255319 0.96779661 0.91273375 0.88418323 0.8826087  0.91103203\n",
      " 0.90534619 0.86543536 0.84111311 0.85839161 0.8781331  0.971078\n",
      " 0.89938217 0.87190813 0.90971625 0.91884817 0.71221178 0.87982833\n",
      " 0.9288225  0.93203883 0.85867446 0.93920705 0.94987035 0.90529974\n",
      " 0.80352423 0.9206626  0.90592334 0.86339755 0.90034662 0.91383812\n",
      " 0.82450043 0.81500873 0.85082394 0.70042194 0.95438898 0.94667832\n",
      " 0.96512642 0.90748899 0.9619469  0.91716567 0.84475282 0.82413793\n",
      " 0.89382071 0.95462329 0.88184188 0.90743945 0.69223986 0.49956635\n",
      " 0.971113   0.85074627 0.78218695 0.82909728 0.84750219 0.78916173\n",
      " 0.89229341 0.81358885 0.87456446 0.8125     0.78829604 0.66839378\n",
      " 0.82704126 0.88120567 0.9213691  0.96223176 0.93648069 0.90635739\n",
      " 0.93744493 0.93187773 0.91494845 0.83101392 0.91782007 0.78664354\n",
      " 0.89264069 0.85595568 0.9404878  0.92489083 0.83840139 0.80960699\n",
      " 0.90751945 0.90652557 0.91463415 0.96187175 0.92175408 0.91093474\n",
      " 0.92974848 0.93652174 0.91398784 0.90393013 0.86996337 0.93684211\n",
      " 0.89708405 0.89102005 0.93858131 0.93934142 0.95495495 0.76186368\n",
      " 0.89670139 0.93362445 0.90158172 0.891748   0.93787748 0.9237435\n",
      " 0.90901213 0.97222222 0.97398092 0.95395308 0.94031142 0.96296296\n",
      " 0.8600175  0.8772688  0.89168111 0.94385965 0.9283247  0.94658494\n",
      " 0.79391304 0.88860104 0.71538462 0.81506196 0.91179039 0.91559001\n",
      " 0.90713672 0.84027778 0.98699046 0.79570815 0.83333333 0.79965157\n",
      " 0.83520276 0.8685567  0.9453125  0.941331   0.90853659 0.94230769\n",
      " 0.95804196 0.98091934 0.98846495 0.77729636 0.94390027 0.9622807\n",
      " 0.95724258 0.94107452 0.94622723 0.96143734 0.96214789 0.87640449\n",
      " 0.85639687 0.95888014 0.81081081 0.70593293]\n"
     ]
    }
   ],
   "source": [
    "print('Class-conditional coverages:')\n",
    "print(results['standard'][2]['raw_class_coverages'])"
   ]
  },
  {
   "cell_type": "code",
   "execution_count": 6,
   "id": "1d2d0a40",
   "metadata": {},
   "outputs": [
    {
     "name": "stdout",
     "output_type": "stream",
     "text": [
      "==== Most undercovered class under standard ====\n",
      "Class: 899\n",
      "Coverage under standard : 0.49956634865568084\n",
      "Coverage under clustered: 0.7476149176062445\n",
      "Coverage under classwise: 0.8907198612315698\n"
     ]
    }
   ],
   "source": [
    "print('==== Most undercovered class under standard ====')\n",
    "most_undercov = results['standard'][2]['raw_class_coverages'].argmin()\n",
    "print('Class:', most_undercov)\n",
    "print('Coverage under standard :', results['standard'][2]['raw_class_coverages'][most_undercov])\n",
    "print('Coverage under clustered:', results['cluster_random'][2]['raw_class_coverages'][most_undercov])\n",
    "print('Coverage under classwise:', results['classwise'][2]['raw_class_coverages'][most_undercov])"
   ]
  },
  {
   "cell_type": "markdown",
   "id": "9f10a372",
   "metadata": {},
   "source": [
    "Class 889 corresponds to water jug"
   ]
  },
  {
   "cell_type": "code",
   "execution_count": 7,
   "id": "1d69e4d2",
   "metadata": {},
   "outputs": [
    {
     "name": "stdout",
     "output_type": "stream",
     "text": [
      "==== Most overcovered class under standard ====\n",
      "Class: 339\n",
      "Coverage under standard : 0.996548748921484\n",
      "Coverage under clustered: 0.9836065573770492\n",
      "Coverage under classwise: 0.9301121656600517\n"
     ]
    }
   ],
   "source": [
    "print('==== Most overcovered class under standard ====')\n",
    "most_overcov = results['standard'][2]['raw_class_coverages'].argmax()\n",
    "print('Class:', most_overcov)\n",
    "print('Coverage under standard :', results['standard'][2]['raw_class_coverages'][most_overcov])\n",
    "print('Coverage under clustered:', results['cluster_random'][2]['raw_class_coverages'][most_overcov])\n",
    "print('Coverage under classwise:', results['classwise'][2]['raw_class_coverages'][most_overcov])"
   ]
  },
  {
   "cell_type": "markdown",
   "id": "a4e975e4",
   "metadata": {},
   "source": [
    "Class 339 corresponds to \"sorrel,\" which is not a very common thing. Let's find another overcovered class that is more familiar"
   ]
  },
  {
   "cell_type": "code",
   "execution_count": 8,
   "id": "98c5416d",
   "metadata": {},
   "outputs": [
    {
     "name": "stdout",
     "output_type": "stream",
     "text": [
      "Classes with coverage above 99%:\n"
     ]
    },
    {
     "data": {
      "text/plain": [
       "(array([ 16,  19, 102, 105, 130, 289, 321, 323, 339, 340, 387, 388]),)"
      ]
     },
     "execution_count": 8,
     "metadata": {},
     "output_type": "execute_result"
    }
   ],
   "source": [
    "print('Classes with coverage above 99%:')\n",
    "np.where(results['standard'][2]['raw_class_coverages'] > .99)"
   ]
  },
  {
   "cell_type": "markdown",
   "id": "f52fc18a",
   "metadata": {},
   "source": [
    "Some classes that correspond to common things:\n",
    "* 102 = koala\n",
    "* 105 = flamingo\n",
    "* 289 = leopard"
   ]
  },
  {
   "cell_type": "code",
   "execution_count": 9,
   "id": "8eafc8bc",
   "metadata": {},
   "outputs": [
    {
     "name": "stdout",
     "output_type": "stream",
     "text": [
      "Class-conditional coverage of Class 105:\n"
     ]
    },
    {
     "data": {
      "text/plain": [
       "0.9912049252418645"
      ]
     },
     "execution_count": 9,
     "metadata": {},
     "output_type": "execute_result"
    }
   ],
   "source": [
    "cls = 105\n",
    "\n",
    "print(f'Class-conditional coverage of Class {cls}:')\n",
    "results['standard'][2]['raw_class_coverages'][cls]"
   ]
  },
  {
   "cell_type": "markdown",
   "id": "f0340541",
   "metadata": {},
   "source": [
    "## Some addititional code for comparing against other conformal methods"
   ]
  },
  {
   "cell_type": "code",
   "execution_count": 10,
   "id": "ff8ed2e3",
   "metadata": {},
   "outputs": [],
   "source": [
    "# # For comparison\n",
    "# print('==== Most undercovered class under clustered ====')\n",
    "# method = 'cluster_proportional'\n",
    "# most_undercov = results[method][2]['raw_class_coverages'].argmin()\n",
    "# print('Class:', most_undercov)\n",
    "# print('Coverage:', results[method][2]['raw_class_coverages'][most_undercov])"
   ]
  },
  {
   "cell_type": "code",
   "execution_count": 11,
   "id": "bb378d48",
   "metadata": {},
   "outputs": [],
   "source": [
    "# n_totalcal = 20\n",
    "# score = 'softmax'\n",
    "# folder = f'/home/tding/code/class-conditional-conformal/.cache/paper/varying_n/{dataset}/random_calset/n_totalcal={n_totalcal}/score={score}'\n",
    "# plot_class_coverage_histogram(folder, desired_cov=0.9, vmin=.5, vmax=1, nbins=30, \n",
    "#                               methods = ['standard', 'classwise', 'cluster_random'],\n",
    "#                               title=f'ImageNet, n={n_totalcal}, {score}')"
   ]
  }
 ],
 "metadata": {
  "kernelspec": {
   "display_name": "conformal_env",
   "language": "python",
   "name": "conformal_env"
  },
  "language_info": {
   "codemirror_mode": {
    "name": "ipython",
    "version": 3
   },
   "file_extension": ".py",
   "mimetype": "text/x-python",
   "name": "python",
   "nbconvert_exporter": "python",
   "pygments_lexer": "ipython3",
   "version": "3.10.4"
  }
 },
 "nbformat": 4,
 "nbformat_minor": 5
}
