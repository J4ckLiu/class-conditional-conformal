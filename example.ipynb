{
 "cells": [
  {
   "cell_type": "code",
   "execution_count": 1,
   "id": "a90def29",
   "metadata": {},
   "outputs": [],
   "source": [
    "import numpy as np\n",
    "\n",
    "from utils.conformal_utils import clustered_conformal, random_split\n",
    "from utils.experiment_utils import load_dataset"
   ]
  },
  {
   "cell_type": "markdown",
   "id": "99ef4e62",
   "metadata": {},
   "source": [
    "This notebook shows how to apply _Clustered Conformal Prediction_ to a set of softmax scores and labels"
   ]
  },
  {
   "cell_type": "markdown",
   "id": "b1feb024",
   "metadata": {},
   "source": [
    "## 0) Specify desired coverage level"
   ]
  },
  {
   "cell_type": "code",
   "execution_count": 2,
   "id": "d1d93258",
   "metadata": {},
   "outputs": [],
   "source": [
    "alpha = 0.1 # Correspond to 90% coverage"
   ]
  },
  {
   "cell_type": "markdown",
   "id": "fd75b1f4",
   "metadata": {},
   "source": [
    "## 1) Get conformal scores\n",
    "* softmax_score: `(num_instances, num_classes)` array\n",
    "* labels: `(num_instances,)` array"
   ]
  },
  {
   "cell_type": "code",
   "execution_count": 3,
   "id": "9aa1d5a5",
   "metadata": {},
   "outputs": [],
   "source": [
    "softmax_scores, labels = load_dataset('imagenet')"
   ]
  },
  {
   "cell_type": "code",
   "execution_count": 4,
   "id": "ba81d289",
   "metadata": {},
   "outputs": [],
   "source": [
    "scores_all = 1 - softmax_scores"
   ]
  },
  {
   "cell_type": "markdown",
   "id": "682dbc1b",
   "metadata": {},
   "source": [
    "## 2) Split into calibration and validation datasets"
   ]
  },
  {
   "cell_type": "code",
   "execution_count": 5,
   "id": "96e063bd",
   "metadata": {},
   "outputs": [],
   "source": [
    "# Specify size of calibration dataset\n",
    "n_avg = 30 # Average number of examples per class \n",
    "cal_scores_all, cal_labels, val_scores_all, val_labels = random_split(scores_all, labels, n_avg)"
   ]
  },
  {
   "cell_type": "markdown",
   "id": "730531ff",
   "metadata": {},
   "source": [
    "## 3) Use the calibration dataset to estimate conformal quantiles"
   ]
  },
  {
   "cell_type": "code",
   "execution_count": 6,
   "id": "96d49c24",
   "metadata": {},
   "outputs": [
    {
     "name": "stdout",
     "output_type": "stream",
     "text": [
      "n_clustering=12, num_clusters=6\n",
      "0 of 1000 classes are rare in the clustering set and will be assigned to the null cluster\n",
      "Cluster sizes: [186, 185, 180, 171, 153, 125]\n"
     ]
    }
   ],
   "source": [
    "q_hats = clustered_conformal(cal_scores_all, cal_labels, alpha)"
   ]
  },
  {
   "cell_type": "code",
   "execution_count": 7,
   "id": "9c4d3379",
   "metadata": {},
   "outputs": [],
   "source": [
    "# You can pass the quantiles into a wrapper to get a prediction set function \n",
    "get_pred_set = lambda softmax_vec: np.where(softmax_vec <= q_hats)[0]"
   ]
  },
  {
   "cell_type": "markdown",
   "id": "20e56bef",
   "metadata": {},
   "source": [
    "## 4) Apply prediction set function to new examples \n",
    "\n",
    "You can rerun the following cell to generate prediction sets for different randomly sampled test points"
   ]
  },
  {
   "cell_type": "code",
   "execution_count": 8,
   "id": "1e40489a",
   "metadata": {},
   "outputs": [
    {
     "name": "stdout",
     "output_type": "stream",
     "text": [
      "Prediction set: [433 457 463 529 615 631 638 667 773 804 837 868 898 911 999]\n",
      "True label: 433\n"
     ]
    }
   ],
   "source": [
    "# Get a test softmax vector from the calibration dataset\n",
    "i = np.random.choice(np.arange(len(val_labels)))\n",
    "softmax_vec = val_scores_all[i]\n",
    "true_label = val_labels[i]\n",
    "\n",
    "print('Prediction set:', get_pred_set(softmax_vec))\n",
    "print('True label:', true_label)"
   ]
  },
  {
   "cell_type": "markdown",
   "id": "2086e071",
   "metadata": {},
   "source": [
    "### Evaluation\n",
    "\n",
    "To compute coverage and set size metrics, you can pass `val_scores_all` and `val_labels` into the call to `clustered_conformal()`:"
   ]
  },
  {
   "cell_type": "code",
   "execution_count": 9,
   "id": "4552f04a",
   "metadata": {},
   "outputs": [
    {
     "name": "stdout",
     "output_type": "stream",
     "text": [
      "n_clustering=12, num_clusters=6\n",
      "0 of 1000 classes are rare in the clustering set and will be assigned to the null cluster\n",
      "Cluster sizes: [186, 185, 180, 171, 153, 125]\n",
      "CLASS COVERAGE GAP: 0.03313341096404464\n",
      "AVERAGE SET SIZE: 2.808151188147288\n"
     ]
    }
   ],
   "source": [
    "qhats, preds, class_cov_metrics, set_size_metrics = clustered_conformal(cal_scores_all, cal_labels,\n",
    "                                                                        alpha,\n",
    "                                                                        val_scores_all=val_scores_all, \n",
    "                                                                        val_labels=val_labels)"
   ]
  },
  {
   "cell_type": "markdown",
   "id": "102337d7",
   "metadata": {},
   "source": [
    "Additional metrics can be found in `class_cov_metrics` and `set_size_metrics`"
   ]
  },
  {
   "cell_type": "code",
   "execution_count": null,
   "id": "d6837e15",
   "metadata": {},
   "outputs": [],
   "source": []
  }
 ],
 "metadata": {
  "kernelspec": {
   "display_name": "conformal_env",
   "language": "python",
   "name": "conformal_env"
  },
  "language_info": {
   "codemirror_mode": {
    "name": "ipython",
    "version": 3
   },
   "file_extension": ".py",
   "mimetype": "text/x-python",
   "name": "python",
   "nbconvert_exporter": "python",
   "pygments_lexer": "ipython3",
   "version": "3.10.4"
  }
 },
 "nbformat": 4,
 "nbformat_minor": 5
}
